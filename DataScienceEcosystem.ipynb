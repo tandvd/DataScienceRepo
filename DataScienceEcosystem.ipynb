{
 "cells": [
  {
   "cell_type": "markdown",
   "id": "b13b543c",
   "metadata": {},
   "source": [
    "# Data Science Tools and Ecosystem"
   ]
  },
  {
   "cell_type": "markdown",
   "id": "e46398bf",
   "metadata": {},
   "source": [
    "In this notebook, Data Science Tools and Ecosystem are summarized."
   ]
  },
  {
   "cell_type": "markdown",
   "id": "513cd17e",
   "metadata": {},
   "source": [
    "Some of the popular languages that Data Scientists use are:\n",
    "1. Python\n",
    "2. R\n",
    "3. Scala\n",
    "4. Julia"
   ]
  },
  {
   "cell_type": "markdown",
   "id": "dc7ce502",
   "metadata": {},
   "source": [
    "Some of the commonly used libraries used by Data Scientists include:\n",
    "1. Keras\n",
    "2. Panda\n",
    "3. Matplotlib\n",
    "4. Numpy\n",
    "5. Tensorflow"
   ]
  },
  {
   "cell_type": "markdown",
   "id": "b3d6b246",
   "metadata": {},
   "source": [
    "| Data Science Tools |\n",
    "|--------------------|\n",
    "| RStudio |\n",
    "| Apache Spark |\n",
    "| TensorFlow |"
   ]
  },
  {
   "cell_type": "markdown",
   "id": "a007f4e8",
   "metadata": {},
   "source": [
    "### Below are a few examples of evaluating arithmetic expressions in Python"
   ]
  },
  {
   "cell_type": "code",
   "execution_count": 16,
   "id": "5a5feb7a",
   "metadata": {},
   "outputs": [
    {
     "name": "stdout",
     "output_type": "stream",
     "text": [
      "This a simple arithmetic expression to mutiply then add integers\n"
     ]
    }
   ],
   "source": [
    "print ('This a simple arithmetic expression to mutiply then add integers')"
   ]
  },
  {
   "cell_type": "code",
   "execution_count": 18,
   "id": "253eff28",
   "metadata": {},
   "outputs": [
    {
     "data": {
      "text/plain": [
       "17"
      ]
     },
     "execution_count": 18,
     "metadata": {},
     "output_type": "execute_result"
    }
   ],
   "source": [
    "(3*4)+5"
   ]
  },
  {
   "cell_type": "code",
   "execution_count": 19,
   "id": "77ddd05c",
   "metadata": {},
   "outputs": [
    {
     "name": "stdout",
     "output_type": "stream",
     "text": [
      "This will convert 200 minutes to hours by diving by 60\n"
     ]
    }
   ],
   "source": [
    "print ('This will convert 200 minutes to hours by diving by 60')"
   ]
  },
  {
   "cell_type": "code",
   "execution_count": 20,
   "id": "2fd83e94",
   "metadata": {},
   "outputs": [],
   "source": [
    "total_minutes = 200"
   ]
  },
  {
   "cell_type": "code",
   "execution_count": 21,
   "id": "2e269dc0",
   "metadata": {},
   "outputs": [],
   "source": [
    "hours = total_minutes // 60"
   ]
  },
  {
   "cell_type": "code",
   "execution_count": 23,
   "id": "c7a5f207",
   "metadata": {},
   "outputs": [],
   "source": [
    "minutes = total_minutes % 60"
   ]
  },
  {
   "cell_type": "code",
   "execution_count": 29,
   "id": "0fece7fd",
   "metadata": {},
   "outputs": [
    {
     "name": "stdout",
     "output_type": "stream",
     "text": [
      "3 hr 20 min\n"
     ]
    }
   ],
   "source": [
    "print (hours, \"hr\", minutes, \"min\")"
   ]
  },
  {
   "cell_type": "markdown",
   "id": "d762b488",
   "metadata": {},
   "source": [
    "### Objectives :\n",
    "* List Popular Language for Data Science\n",
    "* List Common Libraries used by Data Scientists\n",
    "* List Tools for Data Science\n",
    "* Make Few Examples of Phyton Arithmetic Expressions\n"
   ]
  },
  {
   "cell_type": "markdown",
   "id": "0ecde174",
   "metadata": {},
   "source": [
    "## Author\n",
    "Tan David Kristiawan"
   ]
  },
  {
   "cell_type": "code",
   "execution_count": null,
   "id": "c8ab2ecf",
   "metadata": {},
   "outputs": [],
   "source": []
  }
 ],
 "metadata": {
  "kernelspec": {
   "display_name": "Python 3 (ipykernel)",
   "language": "python",
   "name": "python3"
  },
  "language_info": {
   "codemirror_mode": {
    "name": "ipython",
    "version": 3
   },
   "file_extension": ".py",
   "mimetype": "text/x-python",
   "name": "python",
   "nbconvert_exporter": "python",
   "pygments_lexer": "ipython3",
   "version": "3.11.5"
  }
 },
 "nbformat": 4,
 "nbformat_minor": 5
}
